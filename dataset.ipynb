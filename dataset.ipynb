{
 "cells": [
  {
   "cell_type": "code",
   "execution_count": 2,
   "metadata": {},
   "outputs": [],
   "source": [
    "import csv\n",
    "import random"
   ]
  },
  {
   "cell_type": "code",
   "execution_count": 3,
   "metadata": {},
   "outputs": [],
   "source": [
    "file_no=1#code for combining data\n",
    " \n",
    "while(file_no<50):\n",
    "    i=0\n",
    "    #x=0\n",
    "    filename=str(file_no)+'.csv'\n",
    "    #newfile_name=str(newfile_no)+'test.csv'\n",
    "    rows=[]\n",
    "        \n",
    "    with open(filename, 'r') as csvfile, open('raw dataset.csv','a',newline='') as myfile:#,open(newfile_name, 'w',newline='') as myfile1: \n",
    "        csvreader = csv.reader(csvfile) \n",
    "        writer=csv.writer(myfile)\n",
    "        #writer1 = csv.writer(myfile1)\n",
    "        for row in csvreader: \n",
    "            if(i>0):#to make sure the header doesnt get written and shuffled\n",
    "                rows.append(row)\n",
    "            i=i+1\n",
    "        writer.writerows(rows)    \n",
    "        \n",
    "        csvfile.close()  \n",
    "        myfile.close()\n",
    "        \n",
    "    file_no=file_no+1"
   ]
  },
  {
   "cell_type": "code",
   "execution_count": 5,
   "metadata": {},
   "outputs": [],
   "source": [
    "rows=[]\n",
    "with open('raw dataset.csv', 'r') as csvfile, open('shuffled dataset.csv','w',newline='') as myfile:#to shuffle rows\n",
    "        csvreader = csv.reader(csvfile) \n",
    "        writer=csv.writer(myfile)\n",
    "        for row in csvreader: \n",
    "            rows.append(row)\n",
    "            \n",
    "        random.shuffle(rows)    \n",
    "        writer.writerows(rows)   \n",
    "        csvfile.close()\n",
    "        myfile.close()\n",
    "        \n"
   ]
  },
  {
   "cell_type": "code",
   "execution_count": 6,
   "metadata": {},
   "outputs": [],
   "source": [
    "with open('shuffled dataset.csv') as input, open('dataset final.csv', 'w', newline='') as output:#to delete empty cells\n",
    "    writer = csv.writer(output)\n",
    "    for row in csv.reader(input):\n",
    "         if any(field.strip() for field in row):\n",
    "            writer.writerow(row)"
   ]
  },
  {
   "cell_type": "code",
   "execution_count": null,
   "metadata": {},
   "outputs": [],
   "source": []
  }
 ],
 "metadata": {
  "kernelspec": {
   "display_name": "Python 3",
   "language": "python",
   "name": "python3"
  },
  "language_info": {
   "codemirror_mode": {
    "name": "ipython",
    "version": 3
   },
   "file_extension": ".py",
   "mimetype": "text/x-python",
   "name": "python",
   "nbconvert_exporter": "python",
   "pygments_lexer": "ipython3",
   "version": "3.7.3"
  }
 },
 "nbformat": 4,
 "nbformat_minor": 2
}
