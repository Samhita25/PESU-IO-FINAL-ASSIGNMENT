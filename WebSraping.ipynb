{
 "cells": [
  {
   "cell_type": "code",
   "execution_count": 8,
   "metadata": {},
   "outputs": [],
   "source": [
    "from bs4 import BeautifulSoup as soup"
   ]
  },
  {
   "cell_type": "code",
   "execution_count": 9,
   "metadata": {},
   "outputs": [],
   "source": [
    "import urllib.request as ul\n",
    "import requests"
   ]
  },
  {
   "cell_type": "code",
   "execution_count": 10,
   "metadata": {},
   "outputs": [],
   "source": [
    "url=\"https://karki23.github.io/Weather-Data/assignment.html\""
   ]
  },
  {
   "cell_type": "code",
   "execution_count": 11,
   "metadata": {},
   "outputs": [],
   "source": [
    "sauce=ul.urlopen(url).read()\n",
    "srccode=soup(sauce,'html.parser')"
   ]
  },
  {
   "cell_type": "code",
   "execution_count": 12,
   "metadata": {},
   "outputs": [],
   "source": [
    "tags = srccode.find_all('a')\n",
    "cities=[]\n",
    "for tag in tags:\n",
    "    cities.append(tag.get('href'))\n",
    "#print(cities)"
   ]
  },
  {
   "cell_type": "code",
   "execution_count": 14,
   "metadata": {},
   "outputs": [],
   "source": [
    "import csv\n",
    "file_no=1#city no.\n",
    "for url in cities:\n",
    "    url1='https://karki23.github.io/Weather-Data/'+url\n",
    "    sauce=ul.urlopen(url1).read()\n",
    "    srccode=soup(sauce,'html.parser')\n",
    "    \n",
    "    tables=srccode.find_all('table')\n",
    "    table_data=[]\n",
    "    row_data=[]\n",
    "    i=0\n",
    "    \n",
    "    \n",
    "    for table in tables:\n",
    "        table_rows=srccode.find_all('tr')\n",
    "        table_data=[]\n",
    "        for row in table_rows:\n",
    "            row_data=[]\n",
    "            th=row.find_all('th')\n",
    "            row_data=[n.text for n in th]\n",
    "            table_data.append(row_data)\n",
    "            td=row.find_all('td')\n",
    "            i=0\n",
    "            row_data=[]\n",
    "            while(i<24):\n",
    "                row_data.append(td[i].text)\n",
    "                #print()\n",
    "                i=i+1\n",
    "            table_data.append(row_data)\n",
    "            #print(type(td))\n",
    "        #print('hello world')\n",
    "        #print(row_data)\n",
    "        \n",
    "    x= str(file_no)+'.csv'\n",
    "    myFile = open(x, 'w')\n",
    "    with myFile:\n",
    "        writer = csv.writer(myFile)\n",
    "        writer.writerows(table_data)\n",
    "        \n",
    "    file_no=file_no+1"
   ]
  },
  {
   "cell_type": "code",
   "execution_count": null,
   "metadata": {},
   "outputs": [],
   "source": []
  }
 ],
 "metadata": {
  "kernelspec": {
   "display_name": "Python 3",
   "language": "python",
   "name": "python3"
  },
  "language_info": {
   "codemirror_mode": {
    "name": "ipython",
    "version": 3
   },
   "file_extension": ".py",
   "mimetype": "text/x-python",
   "name": "python",
   "nbconvert_exporter": "python",
   "pygments_lexer": "ipython3",
   "version": "3.7.3"
  }
 },
 "nbformat": 4,
 "nbformat_minor": 2
}
