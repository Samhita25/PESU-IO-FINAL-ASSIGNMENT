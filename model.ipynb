{
 "cells": [
  {
   "cell_type": "code",
   "execution_count": 109,
   "metadata": {},
   "outputs": [],
   "source": [
    "import pandas as pd\n",
    "from sklearn.preprocessing import LabelEncoder, OneHotEncoder, StandardScaler\n",
    "from sklearn.model_selection import train_test_split\n",
    "import keras\n",
    "from keras.models import Sequential\n",
    "from keras.layers import Dense"
   ]
  },
  {
   "cell_type": "code",
   "execution_count": 110,
   "metadata": {},
   "outputs": [],
   "source": [
    "dataset=pd.read_csv('dataset final.csv')"
   ]
  },
  {
   "cell_type": "code",
   "execution_count": 111,
   "metadata": {},
   "outputs": [],
   "source": [
    "X = dataset.iloc[:,  :23].values\n",
    "Y = dataset.iloc[:, 23].values"
   ]
  },
  {
   "cell_type": "code",
   "execution_count": 112,
   "metadata": {},
   "outputs": [
    {
     "name": "stdout",
     "output_type": "stream",
     "text": [
      "[['28-03-2017' 'SydneyAirport' 20.9 ... 22.7 'No' 0.0]\n",
      " ['24-02-2016' 'Canberra' 14.2 ... 35.3 'No' 0.0]\n",
      " ['09-05-2009' 'Tuggeranong' -0.2 ... 19.2 'No' 0.0]\n",
      " ...\n",
      " ['15-12-2013' 'Albury' 12.8 ... 28.5 'No' 0.0]\n",
      " ['23-10-2012' 'Wollongong' 10.6 ... 16.9 'Yes' 0.0]\n",
      " ['07-04-2017' 'GoldCoast' 16.7 ... 24.2 'No' 0.2]]\n",
      "['No' 'No' 'No' ... 'No' 'No' 'No']\n"
     ]
    }
   ],
   "source": [
    "print(X)\n",
    "print(Y)"
   ]
  },
  {
   "cell_type": "code",
   "execution_count": null,
   "metadata": {},
   "outputs": [],
   "source": [
    "#converting all the string values to numeric values\n",
    "labelencoder_X_0 = LabelEncoder()\n",
    "X[:, 0] = labelencoder_X_0.fit_transform(X[:, 0])\n",
    "\n",
    "labelencoder_X_1 = LabelEncoder()\n",
    "X[:, 1] = labelencoder_X_1.fit_transform(X[:, 1])\n",
    "\n",
    "labelencoder_X_2 = LabelEncoder()\n",
    "X[:, 2] = labelencoder_X_2.fit_transform(X[:, 2])\n",
    "\n",
    "labelencoder_X_3 = LabelEncoder()\n",
    "X[:, 3] = labelencoder_X_3.fit_transform(X[:, 3])\n",
    "\n",
    "labelencoder_X_4 = LabelEncoder()\n",
    "X[:, 4] = labelencoder_X_4.fit_transform(X[:, 4])\n",
    "\n",
    "labelencoder_X_5 = LabelEncoder()\n",
    "X[:, 5] = labelencoder_X_5.fit_transform(X[:, 5])\n",
    "\n",
    "labelencoder_X_6 = LabelEncoder()\n",
    "X[:, 6] = labelencoder_X_6.fit_transform(X[:, 6])\n",
    "\n",
    "labelencoder_X_7 = LabelEncoder()\n",
    "X[:, 7] = labelencoder_X_7.fit_transform(X[:, 7])\n",
    "\n",
    "labelencoder_X_8 = LabelEncoder()\n",
    "X[:, 8] = labelencoder_X_1.fit_transform(X[:, 8])\n",
    "\n",
    "labelencoder_X_9 = LabelEncoder()\n",
    "X[:, 9] = labelencoder_X_9.fit_transform(X[:, 9])\n",
    "\n",
    "labelencoder_X_10 = LabelEncoder()\n",
    "X[:, 10] = labelencoder_X_10.fit_transform(X[:, 10])\n",
    "\n",
    "labelencoder_X_11 = LabelEncoder()\n",
    "X[:, 11] = labelencoder_X_11.fit_transform(X[:, 11])\n",
    "\n",
    "labelencoder_X_12 = LabelEncoder()\n",
    "X[:, 12] = labelencoder_X_12.fit_transform(X[:, 12])\n",
    "\n",
    "labelencoder_X_13 = LabelEncoder()\n",
    "X[:, 13] = labelencoder_X_13.fit_transform(X[:, 13])\n",
    "\n",
    "labelencoder_X_14 = LabelEncoder()\n",
    "X[:, 14] = labelencoder_X_14.fit_transform(X[:, 14])\n",
    "\n",
    "labelencoder_X_15 = LabelEncoder()\n",
    "X[:, 15] = labelencoder_X_15.fit_transform(X[:, 15])\n",
    "\n",
    "labelencoder_X_16 = LabelEncoder()\n",
    "X[:, 16] = labelencoder_X_16.fit_transform(X[:, 16])\n",
    "\n",
    "labelencoder_X_17 = LabelEncoder()\n",
    "X[:, 17] = labelencoder_X_17.fit_transform(X[:, 17])\n",
    "\n",
    "labelencoder_X_18 = LabelEncoder()\n",
    "X[:, 18] = labelencoder_X_18.fit_transform(X[:, 18])\n",
    "\n",
    "labelencoder_X_19 = LabelEncoder()\n",
    "X[:, 19] = labelencoder_X_19.fit_transform(X[:, 19])\n",
    "\n",
    "labelencoder_X_20 = LabelEncoder()\n",
    "X[:, 20] = labelencoder_X_20.fit_transform(X[:, 20])\n",
    "\n",
    "labelencoder_X_21 = LabelEncoder()\n",
    "X[:, 21] = labelencoder_X_21.fit_transform(X[:, 21])\n",
    "\n",
    "labelencoder_X_22 = LabelEncoder()\n",
    "X[:, 22] = labelencoder_X_22.fit_transform(X[:, 22])\n",
    "\n",
    "\n",
    "labelencoder_Y_0 = LabelEncoder()\n",
    "Y = labelencoder_Y_0.fit_transform(Y)\n",
    "\n",
    "\n",
    "#X = OneHotEncoder().fit_transform(X).toarray()\n",
    "X_train, X_test, Y_train, Y_test = train_test_split(X, Y, test_size = 0.2, random_state = 0)#splitting data into train and test sets(80-20)"
   ]
  },
  {
   "cell_type": "code",
   "execution_count": null,
   "metadata": {},
   "outputs": [],
   "source": [
    "sc = StandardScaler()#feature scaling\n",
    "X_train = sc.fit_transform(X_train)\n",
    "X_test = sc.transform(X_test)"
   ]
  },
  {
   "cell_type": "code",
   "execution_count": 91,
   "metadata": {},
   "outputs": [],
   "source": [
    "#creating ann\n",
    "model = Sequential()\n",
    "model.add(Dense(16, input_dim=20, activation='relu'))#input and first hidden layer\n",
    "model.add(Dense(12, activation='relu'))#second hidden layer\n",
    "model.add(Dense(4, activation='softmax'))#output layer\n"
   ]
  },
  {
   "cell_type": "code",
   "execution_count": 92,
   "metadata": {},
   "outputs": [],
   "source": [
    "model.compile(loss='categorical_crossentropy', optimizer='adam', metrics=['accuracy'])"
   ]
  },
  {
   "cell_type": "code",
   "execution_count": null,
   "metadata": {},
   "outputs": [],
   "source": [
    "classifier.fit(X_train, Y_train, batch_size = 10, epochs = 100)\n",
    "\n"
   ]
  },
  {
   "cell_type": "code",
   "execution_count": null,
   "metadata": {},
   "outputs": [],
   "source": [
    "#predicting test results\n",
    "\n",
    "y_pred = model.predict(X_test)\n",
    "pred = list()\n",
    "for i in range(len(y_pred)):\n",
    "    pred.append(np.argmax(y_pred[i]))\n",
    "\n",
    "test = list()\n",
    "\n",
    "for i in range(len(y_test)):\n",
    "    test.append(np.argmax(y_test[i]))\n",
    "    \n",
    "from sklearn.metrics import accuracy_score\n",
    "print(accuracy_score(pred,test))#printing acurracy as by test set"
   ]
  }
 ],
 "metadata": {
  "kernelspec": {
   "display_name": "Python 3",
   "language": "python",
   "name": "python3"
  },
  "language_info": {
   "codemirror_mode": {
    "name": "ipython",
    "version": 3
   },
   "file_extension": ".py",
   "mimetype": "text/x-python",
   "name": "python",
   "nbconvert_exporter": "python",
   "pygments_lexer": "ipython3",
   "version": "3.7.3"
  }
 },
 "nbformat": 4,
 "nbformat_minor": 2
}
